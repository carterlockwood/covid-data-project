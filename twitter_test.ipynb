{
 "cells": [
  {
   "cell_type": "code",
   "execution_count": null,
   "metadata": {},
   "outputs": [],
   "source": [
    "# Libraries that are part of the Python standard library\n",
    "import gzip\n",
    "import itertools\n",
    "import json\n",
    "import pathlib\n",
    "import string\n",
    "import time\n",
    "\n",
    "# Third-party packages\n",
    "import matplotlib.pyplot as plt\n",
    "import nltk\n",
    "import numpy as np\n",
    "import pandas as pd\n",
    "import seaborn as sns"
   ]
  },
  {
   "cell_type": "code",
   "execution_count": null,
   "metadata": {},
   "outputs": [],
   "source": [
    "run_nltk_downloader = False\n",
    "\n",
    "if run_nltk_downloader:\n",
    "    nltk.download()"
   ]
  },
  {
   "cell_type": "code",
   "execution_count": null,
   "metadata": {},
   "outputs": [],
   "source": [
    "# create a pathlib.Path object for the data\n",
    "raw_data_filepath = pathlib.Path('relevant_data_location.json')\n",
    "\n",
    "# open the data filepath\n",
    "with open(raw_data_filepath, 'r') as fp:\n",
    "    tweet_data = json.load(fp)\n",
    "    \n",
    "print(f'The data includes {len(tweet_data)} observations.')"
   ]
  },
  {
   "cell_type": "code",
   "execution_count": null,
   "metadata": {},
   "outputs": [],
   "source": [
    "#np.random.seed(0)\n",
    "#sample_size = 5000\n",
    "#excerpt = np.random.choice(tweet_data, size=sample_size, replace=False,)\n",
    "excerpt=tweet_data[0:5000]\n",
    "column_names = [\n",
    "    'Datetime',\n",
    "    'Username',\n",
    "    'User',\n",
    "    'Loc1',\n",
    "    'Loc2',\n",
    "    'Language',\n",
    "    'Text',\n",
    "]\n",
    "#tweet_df = pd.DataFrame(tweet_data, columns = column_names)\n",
    "exc_tweet_df = pd.DataFrame(excerpt, \n",
    "                        columns = column_names)"
   ]
  },
  {
   "cell_type": "code",
   "execution_count": null,
   "metadata": {},
   "outputs": [],
   "source": [
    "user_defined_stop_words = ['..', '...', 'get', '\\u200d', '’', '“', '”']\n",
    "\n",
    "my_mwe_tuples = [\n",
    "    ('u', '.', 's', '.'),\n",
    "    ('covid', '-', '19'),\n",
    "]\n",
    "\n",
    "i = nltk.corpus.stopwords.words('english')\n",
    "j = list(string.punctuation) + user_defined_stop_words\n",
    "stopwords = set(i).union(j)\n",
    "\n",
    "tknzr = nltk.tokenize.TweetTokenizer()\n",
    "mwe_tknzr = nltk.tokenize.MWETokenizer()\n",
    "mwe_tknzr.add_mwe(my_mwe_tuples)\n",
    "lemmatizer = nltk.stem.WordNetLemmatizer()\n",
    "stemmer = nltk.stem.porter.PorterStemmer()\n",
    "\n",
    "\n",
    "def create_tok(x):\n",
    "    tokens = tknzr.tokenize(x.lower())\n",
    "    tokens = [token for token in tokens if token not in string.punctuation]\n",
    "    tokens = [token for token in tokens if token not in set(stopwords)]\n",
    "    tokens = [lemmatizer.lemmatize(token) for token in tokens]\n",
    "    tokens = [stemmer.stem(token) for token in tokens]\n",
    "    return tokens\n",
    "    "
   ]
  },
  {
   "cell_type": "code",
   "execution_count": null,
   "metadata": {},
   "outputs": [],
   "source": [
    "exc_tweet_df['Tokens'] = exc_tweet_df['Text'].apply(create_tok)"
   ]
  },
  {
   "cell_type": "code",
   "execution_count": null,
   "metadata": {},
   "outputs": [],
   "source": [
    "#filter to get just tweets from AL use on 'tweet_data' for full dataset\n",
    "#test = exc_tweet_df.loc[exc_tweet_df['Loc2'].str.contains(\"AL\"),:]\n",
    "exc_tweet_df.head()"
   ]
  },
  {
   "cell_type": "code",
   "execution_count": null,
   "metadata": {},
   "outputs": [],
   "source": [
    "#convert Datetime column to datetime format to allow for easier sorting/more flexible manipulation\n",
    "test.loc[:,'Datetime'] = pd.to_datetime(test['Datetime'], \n",
    "                                      format = '%a %b %d %H:%M:%S %z %Y')"
   ]
  },
  {
   "cell_type": "code",
   "execution_count": null,
   "metadata": {},
   "outputs": [],
   "source": [
    "test.head()"
   ]
  },
  {
   "cell_type": "code",
   "execution_count": null,
   "metadata": {},
   "outputs": [],
   "source": []
  },
  {
   "cell_type": "code",
   "execution_count": null,
   "metadata": {},
   "outputs": [],
   "source": []
  }
 ],
 "metadata": {
  "kernelspec": {
   "display_name": "Python 3",
   "language": "python",
   "name": "python3"
  },
  "language_info": {
   "codemirror_mode": {
    "name": "ipython",
    "version": 3
   },
   "file_extension": ".py",
   "mimetype": "text/x-python",
   "name": "python",
   "nbconvert_exporter": "python",
   "pygments_lexer": "ipython3",
   "version": "3.7.6"
  }
 },
 "nbformat": 4,
 "nbformat_minor": 4
}
